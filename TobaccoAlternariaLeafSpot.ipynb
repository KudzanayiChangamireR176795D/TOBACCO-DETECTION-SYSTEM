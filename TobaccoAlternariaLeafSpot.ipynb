{
 "cells": [
  {
   "cell_type": "markdown",
   "id": "ecaade2d-f41e-40dc-8d34-bbe78c4cc90a",
   "metadata": {},
   "source": [
    "## ........................AGUMENTING TOBACCO ALTERNARIA LEAF SPOT (HEALTHY MODULE)...................."
   ]
  },
  {
   "cell_type": "markdown",
   "id": "500e2570-1a22-4582-bafd-6733d85c1c3b",
   "metadata": {},
   "source": [
    "## AGUMENTING TOBACCO ALTERNARIA LEAF SPOT VIRUS  - Vertical Flip (HEALTHY TRAIN SET)"
   ]
  },
  {
   "cell_type": "code",
   "execution_count": 123,
   "id": "42e47b6f-1501-42e2-a7e6-28416b6b8608",
   "metadata": {},
   "outputs": [],
   "source": [
    "from tensorflow.keras.preprocessing.image import ImageDataGenerator\n",
    "from matplotlib.pyplot import imread, imshow, subplots, show\n",
    "import numpy as np\n",
    "import os\n",
    "from PIL import Image\n",
    "from skimage import io"
   ]
  },
  {
   "cell_type": "code",
   "execution_count": 124,
   "id": "878d7870-ab2f-4d63-aabe-96f903e9c128",
   "metadata": {},
   "outputs": [],
   "source": [
    "datagen = ImageDataGenerator(\n",
    "    rotation_range=360,  \n",
    "    vertical_flip=True,  \n",
    "    fill_mode='reflect'\n",
    ")"
   ]
  },
  {
   "cell_type": "code",
   "execution_count": 125,
   "id": "e3596628-499b-406f-adf9-8afabeb53d6c",
   "metadata": {},
   "outputs": [],
   "source": [
    "image_directory ='Tobacco_Alternaria_LeafSpot_Virus_RawSplit\\Train\\Healthy/'\n",
    "SIZE =256\n",
    "dataset = []"
   ]
  },
  {
   "cell_type": "code",
   "execution_count": 126,
   "id": "cc16720f-5b5f-4941-a5df-064a8dbbcdd5",
   "metadata": {},
   "outputs": [],
   "source": [
    "my_images = os.listdir(image_directory)\n",
    "for i, image_name in enumerate(my_images):\n",
    "    if (image_name.split('.')[1] =='jpg'):\n",
    "        image = io.imread(image_directory + image_name)\n",
    "        image = Image.fromarray(image, 'RGB')\n",
    "        image = image.resize((SIZE,SIZE))\n",
    "        dataset.append(np.array(image))"
   ]
  },
  {
   "cell_type": "code",
   "execution_count": 127,
   "id": "a76078f1-b2de-4d7d-adc6-60aa7221d7b3",
   "metadata": {},
   "outputs": [],
   "source": [
    "x=np.array(dataset)\n",
    "i = 0\n",
    "for batch in datagen.flow(x, batch_size=11,\n",
    "                          save_to_dir='Tobacco_Alternaria_LeafSpot_Virus_AgumentedData\\Train\\Healthy',\n",
    "                          save_prefix='Healthy-VerticalFlip',\n",
    "                          save_format='png'):\n",
    "    i +=1\n",
    "    if i >10:\n",
    "        break"
   ]
  },
  {
   "cell_type": "markdown",
   "id": "5e6b6123-c09a-40c7-8e64-99830d1d2f2b",
   "metadata": {},
   "source": [
    "## AGUMENTING TOBACCO ALTERNARIA LEAF SPOT VIRUS IMAGES - Horizontal Flip (HEALTHY TRAIN SET)"
   ]
  },
  {
   "cell_type": "code",
   "execution_count": 128,
   "id": "c5e8327c-ad86-4e0c-82a6-2bd19122a1eb",
   "metadata": {},
   "outputs": [],
   "source": [
    "datagen = ImageDataGenerator(\n",
    "    rotation_range=360,  \n",
    "    horizontal_flip=True,  \n",
    "    fill_mode='reflect'\n",
    ")"
   ]
  },
  {
   "cell_type": "code",
   "execution_count": 129,
   "id": "770c7563-7c1e-43d1-a7a9-cfa3fe72c9fe",
   "metadata": {},
   "outputs": [],
   "source": [
    "image_directory ='Tobacco_Alternaria_LeafSpot_Virus_RawSplit\\Train\\Healthy/'\n",
    "SIZE =256\n",
    "dataset = []"
   ]
  },
  {
   "cell_type": "code",
   "execution_count": 130,
   "id": "74ddf89c-9edd-481f-a129-81d318df68e2",
   "metadata": {},
   "outputs": [],
   "source": [
    "my_images = os.listdir(image_directory)\n",
    "for i, image_name in enumerate(my_images):\n",
    "    if (image_name.split('.')[1] =='jpg'):\n",
    "        image = io.imread(image_directory + image_name)\n",
    "        image = Image.fromarray(image, 'RGB')\n",
    "        image = image.resize((SIZE,SIZE))\n",
    "        dataset.append(np.array(image))"
   ]
  },
  {
   "cell_type": "code",
   "execution_count": 131,
   "id": "8b988141-a1c6-4c45-ad1a-76c87ac8c358",
   "metadata": {},
   "outputs": [],
   "source": [
    "x=np.array(dataset)\n",
    "i = 0\n",
    "for batch in datagen.flow(x, batch_size=11,\n",
    "                          save_to_dir='Tobacco_Alternaria_LeafSpot_Virus_AgumentedData\\Train\\Healthy',\n",
    "                          save_prefix='Healthy-HorizontalFlip',\n",
    "                          save_format='png'):\n",
    "    i +=1\n",
    "    if i >10:\n",
    "        break"
   ]
  },
  {
   "cell_type": "markdown",
   "id": "c415648f-daef-4d6d-b04a-6703756c1013",
   "metadata": {},
   "source": [
    "## AGUMENTING TOBACCO ALTERNARIA LEAF SPOT VIRUS IMAGES - Gaussian Effect (HEALTHY TRAIN SET)"
   ]
  },
  {
   "cell_type": "code",
   "execution_count": 132,
   "id": "c7d23b47-ff5d-4e12-af07-d0d7935c1af2",
   "metadata": {},
   "outputs": [],
   "source": [
    "datagen = ImageDataGenerator(\n",
    "    rotation_range=360,\n",
    "    vertical_flip=True,\n",
    "    fill_mode='reflect',\n",
    "    samplewise_center=True,\n",
    "    samplewise_std_normalization=True,\n",
    "    channel_shift_range=0.2,\n",
    "    brightness_range=[0.8, 1.2],\n",
    "    zoom_range=[0.8, 1.2],\n",
    "    width_shift_range=0.2,\n",
    "    height_shift_range=0.2\n",
    ")"
   ]
  },
  {
   "cell_type": "code",
   "execution_count": 133,
   "id": "2737fda9-f3ff-4f1f-936b-02f842425ca8",
   "metadata": {},
   "outputs": [],
   "source": [
    "image_directory ='Tobacco_Alternaria_LeafSpot_Virus_RawSplit\\Train\\Healthy/'\n",
    "SIZE =256\n",
    "dataset = []"
   ]
  },
  {
   "cell_type": "code",
   "execution_count": 134,
   "id": "184f7cbb-c54a-4f27-a39c-c2d9751dc837",
   "metadata": {},
   "outputs": [],
   "source": [
    "my_images = os.listdir(image_directory)\n",
    "for i, image_name in enumerate(my_images):\n",
    "    if (image_name.split('.')[1] =='jpg'):\n",
    "        image = io.imread(image_directory + image_name)\n",
    "        image = Image.fromarray(image, 'RGB')\n",
    "        image = image.resize((SIZE,SIZE))\n",
    "        dataset.append(np.array(image))"
   ]
  },
  {
   "cell_type": "code",
   "execution_count": 135,
   "id": "1d9a1f71-ac77-4c63-b2a2-d35a0c6cc029",
   "metadata": {},
   "outputs": [],
   "source": [
    "x=np.array(dataset)\n",
    "i = 0\n",
    "for batch in datagen.flow(x, batch_size=11,\n",
    "                          save_to_dir='Tobacco_Alternaria_LeafSpot_Virus_AgumentedData\\Train\\Healthy',\n",
    "                          save_prefix='Healthy-GaussianEffect',\n",
    "                          save_format='png'):\n",
    "    i +=1\n",
    "    if i >10:\n",
    "        break"
   ]
  },
  {
   "cell_type": "markdown",
   "id": "2a866ad0-c8f2-4b3c-a65e-7d3bff67b87e",
   "metadata": {},
   "source": [
    "## AGUMENTING TOBACCO ALTERNARIA LEAF SPOT VIRUS  - Vertical Flip  (HEALTHY VALID SET)"
   ]
  },
  {
   "cell_type": "code",
   "execution_count": 136,
   "id": "c68efb4e-3584-4328-8560-61b241a90f7a",
   "metadata": {},
   "outputs": [],
   "source": [
    "datagen = ImageDataGenerator(\n",
    "    rotation_range=360,\n",
    "    vertical_flip=True,\n",
    "    fill_mode='reflect'\n",
    ")"
   ]
  },
  {
   "cell_type": "code",
   "execution_count": 137,
   "id": "395dbac6-6371-474a-bc5c-33be28cbd5f9",
   "metadata": {},
   "outputs": [],
   "source": [
    "image_directory ='Tobacco_Alternaria_LeafSpot_Virus_RawSplit\\Valid\\Healthy/'\n",
    "SIZE =256\n",
    "dataset = []"
   ]
  },
  {
   "cell_type": "code",
   "execution_count": 138,
   "id": "26f3a426-c37d-4a75-8842-bc3118e503a3",
   "metadata": {},
   "outputs": [],
   "source": [
    "my_images = os.listdir(image_directory)\n",
    "for i, image_name in enumerate(my_images):\n",
    "    if (image_name.split('.')[1] =='jpg'):\n",
    "        image = io.imread(image_directory + image_name)\n",
    "        image = Image.fromarray(image, 'RGB')\n",
    "        image = image.resize((SIZE,SIZE))\n",
    "        dataset.append(np.array(image))"
   ]
  },
  {
   "cell_type": "code",
   "execution_count": 139,
   "id": "99efe59d-821d-44ee-a0b2-f5fa37d76512",
   "metadata": {},
   "outputs": [],
   "source": [
    "x=np.array(dataset)\n",
    "i = 0\n",
    "for batch in datagen.flow(x, batch_size=10,\n",
    "                          save_to_dir='Tobacco_Alternaria_LeafSpot_Virus_AgumentedData\\Valid\\Healthy',\n",
    "                          save_prefix='Healthy-VerticalFlip',\n",
    "                          save_format='png'):\n",
    "    i +=1\n",
    "    if i >2:\n",
    "        break"
   ]
  },
  {
   "cell_type": "markdown",
   "id": "597ebe75-2d65-4a76-b3e8-8ff6b2e61502",
   "metadata": {},
   "source": [
    "## AGUMENTING TOBACCO ALTERNARIA LEAF SPOT VIRUS IMAGES - Horizontal Flip (HEALTHY VALID SET)"
   ]
  },
  {
   "cell_type": "code",
   "execution_count": 140,
   "id": "10f04d05-a824-407f-aa24-5a812e171a34",
   "metadata": {},
   "outputs": [],
   "source": [
    "datagen = ImageDataGenerator(\n",
    "    rotation_range=360,  \n",
    "    horizontal_flip=True,  \n",
    "    fill_mode='reflect'\n",
    ")"
   ]
  },
  {
   "cell_type": "code",
   "execution_count": 141,
   "id": "6da04f5a-5456-4a38-b6af-17ce3f6a9802",
   "metadata": {},
   "outputs": [],
   "source": [
    "image_directory ='Tobacco_Alternaria_LeafSpot_Virus_RawSplit\\Valid\\Healthy/'\n",
    "SIZE =256\n",
    "dataset = []"
   ]
  },
  {
   "cell_type": "code",
   "execution_count": 142,
   "id": "21a3f111-8ce1-4a4c-9188-c7b81915d326",
   "metadata": {},
   "outputs": [],
   "source": [
    "my_images = os.listdir(image_directory)\n",
    "for i, image_name in enumerate(my_images):\n",
    "    if (image_name.split('.')[1] =='jpg'):\n",
    "        image = io.imread(image_directory + image_name)\n",
    "        image = Image.fromarray(image, 'RGB')\n",
    "        image = image.resize((SIZE,SIZE))\n",
    "        dataset.append(np.array(image))"
   ]
  },
  {
   "cell_type": "code",
   "execution_count": 143,
   "id": "74ef1fd1-1761-40ab-ae7d-70560e989f77",
   "metadata": {},
   "outputs": [],
   "source": [
    "x=np.array(dataset)\n",
    "i = 0\n",
    "for batch in datagen.flow(x, batch_size=10,\n",
    "                          save_to_dir='Tobacco_Alternaria_LeafSpot_Virus_AgumentedData\\Valid\\Healthy',\n",
    "                          save_prefix='Healthy-VerticalFlip',\n",
    "                          save_format='png'):\n",
    "    i +=1\n",
    "    if i >2:\n",
    "        break"
   ]
  },
  {
   "cell_type": "markdown",
   "id": "63bee4db-4aec-43d2-b4c0-bc87eab4f541",
   "metadata": {},
   "source": [
    "## AGUMENTING TOBACCO ALTERNARIA LEAF SPOT VIRUS IMAGES - Gaussian Effect (HEALTHY VALID SET)"
   ]
  },
  {
   "cell_type": "code",
   "execution_count": 144,
   "id": "d1cad447-5825-4aec-a143-74365104b933",
   "metadata": {},
   "outputs": [],
   "source": [
    "datagen = ImageDataGenerator(\n",
    "    rotation_range=360,\n",
    "    vertical_flip=True,\n",
    "    fill_mode='reflect',\n",
    "    samplewise_center=True,\n",
    "    samplewise_std_normalization=True,\n",
    "    channel_shift_range=0.2,\n",
    "    brightness_range=[0.8, 1.2],\n",
    "    zoom_range=[0.8, 1.2],\n",
    "    width_shift_range=0.2,\n",
    "    height_shift_range=0.2\n",
    ")"
   ]
  },
  {
   "cell_type": "code",
   "execution_count": 145,
   "id": "68e5cd17-8cad-4256-8766-a15e1fa9aee6",
   "metadata": {},
   "outputs": [],
   "source": [
    "image_directory ='Tobacco_Alternaria_LeafSpot_Virus_RawSplit\\Valid\\Healthy/'\n",
    "SIZE =256\n",
    "dataset = []"
   ]
  },
  {
   "cell_type": "code",
   "execution_count": 146,
   "id": "ef77b691-0942-43be-a9cf-c16f552bf125",
   "metadata": {},
   "outputs": [],
   "source": [
    "my_images = os.listdir(image_directory)\n",
    "for i, image_name in enumerate(my_images):\n",
    "    if (image_name.split('.')[1] =='jpg'):\n",
    "        image = io.imread(image_directory + image_name)\n",
    "        image = Image.fromarray(image, 'RGB')\n",
    "        image = image.resize((SIZE,SIZE))\n",
    "        dataset.append(np.array(image))"
   ]
  },
  {
   "cell_type": "code",
   "execution_count": 147,
   "id": "064a31cb-f6a5-44f5-a482-bf88f01f5b5f",
   "metadata": {},
   "outputs": [],
   "source": [
    "x=np.array(dataset)\n",
    "i = 0\n",
    "for batch in datagen.flow(x, batch_size=10,\n",
    "                          save_to_dir='Tobacco_Alternaria_LeafSpot_Virus_AgumentedData\\Valid\\Healthy',\n",
    "                          save_prefix='Healthy-HorizontalFlip',\n",
    "                          save_format='png'):\n",
    "    i +=1\n",
    "    if i >2:\n",
    "        break"
   ]
  },
  {
   "cell_type": "markdown",
   "id": "babf187d-1b48-4e35-91c9-37edaa8aed06",
   "metadata": {},
   "source": [
    "## ....................AGUMENTING TOBACCO ALTERNARIA LEAF SPOT VIRUS   (DISEASED MODULE)...................."
   ]
  },
  {
   "cell_type": "markdown",
   "id": "d592b7a4-18a9-4a43-9e87-83ae9e0c10c0",
   "metadata": {},
   "source": [
    "## AGUMENTING TOBACCO ALTERNARIA LEAF SPOT VIRUS  - Vertical Flip (DISEASED TRAIN SET)"
   ]
  },
  {
   "cell_type": "code",
   "execution_count": 148,
   "id": "c7cd33b9-df84-45e8-95b5-61165231ca78",
   "metadata": {},
   "outputs": [],
   "source": [
    "datagen = ImageDataGenerator(\n",
    "    rotation_range=360,  \n",
    "    vertical_flip=True,  \n",
    "    fill_mode='reflect'\n",
    ")"
   ]
  },
  {
   "cell_type": "code",
   "execution_count": 149,
   "id": "3afe4842-1389-4b63-82b4-02ce17a57802",
   "metadata": {},
   "outputs": [],
   "source": [
    "image_directory ='Tobacco_Alternaria_LeafSpot_Virus_RawSplit\\Train\\Diseased/'\n",
    "SIZE =256\n",
    "dataset = []"
   ]
  },
  {
   "cell_type": "code",
   "execution_count": 150,
   "id": "c70e6093-6f94-4376-8540-90e340d8e610",
   "metadata": {},
   "outputs": [],
   "source": [
    "my_images = os.listdir(image_directory)\n",
    "for i, image_name in enumerate(my_images):\n",
    "    if (image_name.split('.')[1] =='jpg'):\n",
    "        image = io.imread(image_directory + image_name)\n",
    "        image = Image.fromarray(image, 'RGB')\n",
    "        image = image.resize((SIZE,SIZE))\n",
    "        dataset.append(np.array(image))"
   ]
  },
  {
   "cell_type": "code",
   "execution_count": 151,
   "id": "84590ee2-a3c8-4be2-b812-c146a7a647fb",
   "metadata": {},
   "outputs": [],
   "source": [
    "x=np.array(dataset)\n",
    "i = 0\n",
    "for batch in datagen.flow(x, batch_size=11,\n",
    "                          save_to_dir='Tobacco_Alternaria_LeafSpot_Virus_AgumentedData\\Train\\Diseased',\n",
    "                          save_prefix='Healthy-VerticalFlip',\n",
    "                          save_format='png'):\n",
    "    i +=1\n",
    "    if i >10:\n",
    "        break"
   ]
  },
  {
   "cell_type": "markdown",
   "id": "0f48e3da-fc7c-40d9-bccb-2c59e9b3f336",
   "metadata": {},
   "source": [
    "##  AGUMENTING TOBACCO ALTERNARIA LEAF SPOT VIRUS  - Horizontal Flip (DISEASED TRAIN SET)"
   ]
  },
  {
   "cell_type": "code",
   "execution_count": 152,
   "id": "cef83ac3-d6a3-43a3-b07b-d3136bae315b",
   "metadata": {},
   "outputs": [],
   "source": [
    "datagen = ImageDataGenerator(\n",
    "    rotation_range=360,  \n",
    "    horizontal_flip=True,  \n",
    "    fill_mode='reflect'\n",
    ")"
   ]
  },
  {
   "cell_type": "code",
   "execution_count": 153,
   "id": "1aa19857-cdc1-4091-a3a4-fbf4202fd187",
   "metadata": {},
   "outputs": [],
   "source": [
    "image_directory ='Tobacco_Alternaria_LeafSpot_Virus_RawSplit\\Train\\Diseased/'\n",
    "SIZE =256\n",
    "dataset = []"
   ]
  },
  {
   "cell_type": "code",
   "execution_count": 154,
   "id": "b84c9f7c-0af0-441c-8050-da7a89678b37",
   "metadata": {},
   "outputs": [],
   "source": [
    "my_images = os.listdir(image_directory)\n",
    "for i, image_name in enumerate(my_images):\n",
    "    if (image_name.split('.')[1] =='jpg'):\n",
    "        image = io.imread(image_directory + image_name)\n",
    "        image = Image.fromarray(image, 'RGB')\n",
    "        image = image.resize((SIZE,SIZE))\n",
    "        dataset.append(np.array(image))"
   ]
  },
  {
   "cell_type": "code",
   "execution_count": 155,
   "id": "f226c3e2-8dca-446e-b15c-c071845ae876",
   "metadata": {},
   "outputs": [],
   "source": [
    "x=np.array(dataset)\n",
    "i = 0\n",
    "for batch in datagen.flow(x, batch_size=11,\n",
    "                          save_to_dir='Tobacco_Alternaria_LeafSpot_Virus_AgumentedData\\Train\\Diseased',\n",
    "                          save_prefix='AlternariaLeafSpot-HorizontalFlip',\n",
    "                          save_format='png'):\n",
    "    i +=1\n",
    "    if i >10:\n",
    "        break"
   ]
  },
  {
   "cell_type": "markdown",
   "id": "5f90b488-e764-4c91-9da6-42adeff35bc8",
   "metadata": {},
   "source": [
    "## AGUMENTING TOBACCO ALTERNARIA LEAF SPOT VIRUS - Gaussian Effect (DISEASED TRAIN SET)"
   ]
  },
  {
   "cell_type": "code",
   "execution_count": 156,
   "id": "bc5d6c64-af17-4cfe-b603-f99b08d21244",
   "metadata": {},
   "outputs": [],
   "source": [
    "datagen = ImageDataGenerator(\n",
    "    rotation_range=360,\n",
    "    vertical_flip=True,\n",
    "    fill_mode='reflect',\n",
    "    samplewise_center=True,\n",
    "    samplewise_std_normalization=True,\n",
    "    channel_shift_range=0.2,\n",
    "    brightness_range=[0.8, 1.2],\n",
    "    zoom_range=[0.8, 1.2],\n",
    "    width_shift_range=0.2,\n",
    "    height_shift_range=0.2\n",
    ")"
   ]
  },
  {
   "cell_type": "code",
   "execution_count": 157,
   "id": "1e1a273c-697a-481d-ab69-a5291a4ce8ef",
   "metadata": {},
   "outputs": [],
   "source": [
    "image_directory ='Tobacco_Alternaria_LeafSpot_Virus_RawSplit\\Train\\Diseased/'\n",
    "SIZE =256\n",
    "dataset = []"
   ]
  },
  {
   "cell_type": "code",
   "execution_count": 158,
   "id": "af476571-aab9-434b-b514-0fe8e6f8c905",
   "metadata": {},
   "outputs": [],
   "source": [
    "my_images = os.listdir(image_directory)\n",
    "for i, image_name in enumerate(my_images):\n",
    "    if (image_name.split('.')[1] =='jpg'):\n",
    "        image = io.imread(image_directory + image_name)\n",
    "        image = Image.fromarray(image, 'RGB')\n",
    "        image = image.resize((SIZE,SIZE))\n",
    "        dataset.append(np.array(image))"
   ]
  },
  {
   "cell_type": "code",
   "execution_count": 159,
   "id": "fcae3aa4-18dc-4986-af28-50ef15636eb3",
   "metadata": {},
   "outputs": [],
   "source": [
    "x=np.array(dataset)\n",
    "i = 0\n",
    "for batch in datagen.flow(x, batch_size=11,\n",
    "                          save_to_dir='Tobacco_Alternaria_LeafSpot_Virus_AgumentedData\\Train\\Diseased',\n",
    "                          save_prefix='AlternariaLeafSpot-GaussianEffect',\n",
    "                          save_format='png'):\n",
    "    i +=1\n",
    "    if i >10:\n",
    "        break"
   ]
  },
  {
   "cell_type": "markdown",
   "id": "82b156b8-6859-450d-9bd1-017c86111e5c",
   "metadata": {},
   "source": [
    "## AGUMENTING TOBACCO ALTERNARIA LEAF SPOT VIRUS  - Vertical Flip (DISEASED VALID SET)"
   ]
  },
  {
   "cell_type": "code",
   "execution_count": 160,
   "id": "70dfcbb0-b855-4a7f-9f03-6edb4bfae8cd",
   "metadata": {},
   "outputs": [],
   "source": [
    "datagen = ImageDataGenerator(\n",
    "    rotation_range=360,  \n",
    "    vertical_flip=True,  \n",
    "    fill_mode='reflect'\n",
    ")"
   ]
  },
  {
   "cell_type": "code",
   "execution_count": 161,
   "id": "ef079b6c-4cdf-478c-818e-98a68f81c2ec",
   "metadata": {},
   "outputs": [],
   "source": [
    "image_directory ='Tobacco_Alternaria_LeafSpot_Virus_RawSplit\\Valid\\Diseased/'\n",
    "SIZE =256\n",
    "dataset = []"
   ]
  },
  {
   "cell_type": "code",
   "execution_count": 162,
   "id": "df1940d6-52d8-402d-b231-939e3e09be77",
   "metadata": {},
   "outputs": [],
   "source": [
    "my_images = os.listdir(image_directory)\n",
    "for i, image_name in enumerate(my_images):\n",
    "    if (image_name.split('.')[1] =='jpg'):\n",
    "        image = io.imread(image_directory + image_name)\n",
    "        image = Image.fromarray(image, 'RGB')\n",
    "        image = image.resize((SIZE,SIZE))\n",
    "        dataset.append(np.array(image))"
   ]
  },
  {
   "cell_type": "code",
   "execution_count": 163,
   "id": "f4d4bd11-942b-44ff-8e0c-b9883639151f",
   "metadata": {},
   "outputs": [],
   "source": [
    "x=np.array(dataset)\n",
    "i = 0\n",
    "for batch in datagen.flow(x, batch_size=10,\n",
    "                          save_to_dir='Tobacco_Alternaria_LeafSpot_Virus_AgumentedData\\Valid\\Diseased',\n",
    "                          save_prefix='Alternaria-LeafSpotVerticalFlip',\n",
    "                          save_format='png'):\n",
    "    i +=1\n",
    "    if i >2:\n",
    "        break"
   ]
  },
  {
   "cell_type": "markdown",
   "id": "30cd8e51-9d45-42ee-aede-f5ee35d128cd",
   "metadata": {},
   "source": [
    "## AGUMENTING TOBACCO ALTERNARIA LEAF SPOT VIRUS  - Horizontal Flip (DISEASED VALID SET)"
   ]
  },
  {
   "cell_type": "code",
   "execution_count": 164,
   "id": "3380f28d-0bca-4343-91b2-a79692438a6e",
   "metadata": {},
   "outputs": [],
   "source": [
    "datagen = ImageDataGenerator(\n",
    "    rotation_range=360,  \n",
    "    horizontal_flip=True,  \n",
    "    fill_mode='reflect'\n",
    ")"
   ]
  },
  {
   "cell_type": "code",
   "execution_count": 165,
   "id": "a1acc738-b04b-4b65-a006-0fb089481170",
   "metadata": {},
   "outputs": [],
   "source": [
    "image_directory ='Tobacco_Alternaria_LeafSpot_Virus_RawSplit\\Valid\\Diseased/'\n",
    "SIZE =256\n",
    "dataset = []"
   ]
  },
  {
   "cell_type": "code",
   "execution_count": 166,
   "id": "ba847e45-7c83-409f-9d73-d3f126c71e44",
   "metadata": {},
   "outputs": [],
   "source": [
    "my_images = os.listdir(image_directory)\n",
    "for i, image_name in enumerate(my_images):\n",
    "    if (image_name.split('.')[1] =='jpg'):\n",
    "        image = io.imread(image_directory + image_name)\n",
    "        image = Image.fromarray(image, 'RGB')\n",
    "        image = image.resize((SIZE,SIZE))\n",
    "        dataset.append(np.array(image))"
   ]
  },
  {
   "cell_type": "code",
   "execution_count": 167,
   "id": "fa544027-0394-4bc2-a3d0-87722e0a7c36",
   "metadata": {},
   "outputs": [],
   "source": [
    "x=np.array(dataset)\n",
    "i = 0\n",
    "for batch in datagen.flow(x, batch_size=10,\n",
    "                          save_to_dir='Tobacco_Alternaria_LeafSpot_Virus_AgumentedData\\Valid\\Diseased',\n",
    "                          save_prefix='AlternariaLeafSpot-HorizontalFlip',\n",
    "                          save_format='png'):\n",
    "    i +=1\n",
    "    if i >2:\n",
    "        break"
   ]
  },
  {
   "cell_type": "markdown",
   "id": "fbfe2341-0ee1-40f1-b4b9-5a2232ce021b",
   "metadata": {},
   "source": [
    "## AGUMENTING TOBACCO ALTERNARIA LEAF SPOT VIRUS - Gaussian Effect (DISEASED VALID SET)"
   ]
  },
  {
   "cell_type": "code",
   "execution_count": 168,
   "id": "428d25cf-f56b-4eb3-9b3d-868b60ea5c4e",
   "metadata": {},
   "outputs": [],
   "source": [
    "datagen = ImageDataGenerator(\n",
    "    rotation_range=360,\n",
    "    vertical_flip=True,\n",
    "    fill_mode='reflect',\n",
    "    samplewise_center=True,\n",
    "    samplewise_std_normalization=True,\n",
    "    channel_shift_range=0.2,\n",
    "    brightness_range=[0.8, 1.2],\n",
    "    zoom_range=[0.8, 1.2],\n",
    "    width_shift_range=0.2,\n",
    "    height_shift_range=0.2\n",
    ")"
   ]
  },
  {
   "cell_type": "code",
   "execution_count": 169,
   "id": "b308c2bb-29e7-4da0-a249-89b0fad38ad5",
   "metadata": {},
   "outputs": [],
   "source": [
    "image_directory ='Tobacco_Alternaria_LeafSpot_Virus_RawSplit\\Valid\\Diseased/'\n",
    "SIZE =256\n",
    "dataset = []"
   ]
  },
  {
   "cell_type": "code",
   "execution_count": 170,
   "id": "1f4b8d1f-cf3f-448d-b40e-2cc30a33f7b1",
   "metadata": {},
   "outputs": [],
   "source": [
    "my_images = os.listdir(image_directory)\n",
    "for i, image_name in enumerate(my_images):\n",
    "    if (image_name.split('.')[1] =='jpg'):\n",
    "        image = io.imread(image_directory + image_name)\n",
    "        image = Image.fromarray(image, 'RGB')\n",
    "        image = image.resize((SIZE,SIZE))\n",
    "        dataset.append(np.array(image))"
   ]
  },
  {
   "cell_type": "code",
   "execution_count": 171,
   "id": "d67c1713-95a6-4e07-aec5-5fa68a9ea2a4",
   "metadata": {},
   "outputs": [],
   "source": [
    "x=np.array(dataset)\n",
    "i = 0\n",
    "for batch in datagen.flow(x, batch_size=10,\n",
    "                          save_to_dir='Tobacco_Alternaria_LeafSpot_Virus_AgumentedData\\Valid\\Diseased',\n",
    "                          save_prefix='AlternariaLeafSpot-GaussianEffect',\n",
    "                          save_format='png'):\n",
    "    i +=1\n",
    "    if i >2:\n",
    "        break"
   ]
  }
 ],
 "metadata": {
  "kernelspec": {
   "display_name": "Python 3 (ipykernel)",
   "language": "python",
   "name": "python3"
  },
  "language_info": {
   "codemirror_mode": {
    "name": "ipython",
    "version": 3
   },
   "file_extension": ".py",
   "mimetype": "text/x-python",
   "name": "python",
   "nbconvert_exporter": "python",
   "pygments_lexer": "ipython3",
   "version": "3.10.14"
  }
 },
 "nbformat": 4,
 "nbformat_minor": 5
}
