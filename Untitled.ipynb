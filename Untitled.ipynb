{
 "cells": [
  {
   "cell_type": "code",
   "execution_count": 1,
   "id": "5e40ea0d-46f8-4a96-8705-aab406d7c1a8",
   "metadata": {},
   "outputs": [
    {
     "name": "stdout",
     "output_type": "stream",
     "text": [
      "Collecting split-foldersNote: you may need to restart the kernel to use updated packages.\n",
      "\n",
      "  Using cached split_folders-0.5.1-py3-none-any.whl.metadata (6.2 kB)\n",
      "Using cached split_folders-0.5.1-py3-none-any.whl (8.4 kB)\n",
      "Installing collected packages: split-folders\n",
      "Successfully installed split-folders-0.5.1\n"
     ]
    }
   ],
   "source": [
    "pip install split-folders"
   ]
  },
  {
   "cell_type": "code",
   "execution_count": 1,
   "id": "fff164e7-6db7-42ef-84f5-a6af0f2a41dd",
   "metadata": {},
   "outputs": [],
   "source": [
    "import splitfolders"
   ]
  },
  {
   "cell_type": "code",
   "execution_count": 2,
   "id": "762885a3-af7e-4185-9303-20931b588088",
   "metadata": {},
   "outputs": [],
   "source": [
    "input_folder='Tobacco_Alternaria_LeafSpot_RawData'"
   ]
  },
  {
   "cell_type": "code",
   "execution_count": 3,
   "id": "14bc2f8a-aef4-4734-93a7-a32adcd4de02",
   "metadata": {},
   "outputs": [],
   "source": [
    "splitfolders.ratio(input_folder,output='Tobacco_Alternaria_LeafSpot_NewSplitData',\n",
    "                   seed=42, ratio=(.8, .2, .0),\n",
    "                   group_prefix=None)\n"
   ]
  },
  {
   "cell_type": "code",
   "execution_count": 4,
   "id": "aa72358e-e5ca-4503-81dc-8f07d69f3185",
   "metadata": {},
   "outputs": [],
   "source": [
    "input_folder='Tobacco_Blackshack_Bacteria_RawData'"
   ]
  },
  {
   "cell_type": "code",
   "execution_count": 5,
   "id": "6a3f9cf3-c417-4c39-8113-4731d82e819d",
   "metadata": {},
   "outputs": [],
   "source": [
    "splitfolders.ratio(input_folder,output='Tobacco_Blackshack_Bacteria_NewSplitData',\n",
    "                   seed=42, ratio=(.8, .2, .0),\n",
    "                   group_prefix=None)"
   ]
  },
  {
   "cell_type": "code",
   "execution_count": 6,
   "id": "87781853-aa3f-4cce-aed0-1c7fa8a36eb7",
   "metadata": {},
   "outputs": [],
   "source": [
    "input_folder='Tobacco_Mosaic_Virus_RawData'"
   ]
  },
  {
   "cell_type": "code",
   "execution_count": 7,
   "id": "ef9d88a6-aee7-448f-89e5-34356d2dd648",
   "metadata": {},
   "outputs": [],
   "source": [
    "splitfolders.ratio(input_folder,output='Tobacco_Mosaic_Virus_NewSplitData',\n",
    "                   seed=42, ratio=(.8, .2, .0),\n",
    "                   group_prefix=None)"
   ]
  },
  {
   "cell_type": "code",
   "execution_count": 8,
   "id": "49fbb2d7-94fa-41da-bbd2-074e7a5bc557",
   "metadata": {},
   "outputs": [],
   "source": [
    "input_folder='Tobacco_Potato_Virus_RawData'"
   ]
  },
  {
   "cell_type": "code",
   "execution_count": 9,
   "id": "0fdf70a3-7976-4160-869f-cd77bb751130",
   "metadata": {},
   "outputs": [],
   "source": [
    "splitfolders.ratio(input_folder,output='Tobacco_Potato_Virus_NewSplitData',\n",
    "                   seed=42, ratio=(.8, .2, .0),\n",
    "                   group_prefix=None)"
   ]
  },
  {
   "cell_type": "code",
   "execution_count": null,
   "id": "1e9151bb-747b-4cae-b52c-4ba6818fe306",
   "metadata": {},
   "outputs": [],
   "source": []
  },
  {
   "cell_type": "code",
   "execution_count": null,
   "id": "f12015f7-5017-4a55-b19c-10cc6e599e87",
   "metadata": {},
   "outputs": [],
   "source": [
    " "
   ]
  },
  {
   "cell_type": "code",
   "execution_count": null,
   "id": "f1e9e785-e8c0-43c2-b737-ba6fc27c3fae",
   "metadata": {},
   "outputs": [],
   "source": []
  },
  {
   "cell_type": "code",
   "execution_count": null,
   "id": "6fe6181b-4a0b-4479-963b-359f2f9fbda3",
   "metadata": {},
   "outputs": [],
   "source": []
  },
  {
   "cell_type": "code",
   "execution_count": null,
   "id": "05854fbc-17ef-4b90-b168-3e3424a3758b",
   "metadata": {},
   "outputs": [],
   "source": [
    " "
   ]
  },
  {
   "cell_type": "code",
   "execution_count": null,
   "id": "c86cbd2e-1200-4dd0-94f2-034794367854",
   "metadata": {},
   "outputs": [],
   "source": []
  },
  {
   "cell_type": "code",
   "execution_count": null,
   "id": "dcde2bfd-b234-4e71-a7ec-a8b59ca61735",
   "metadata": {},
   "outputs": [],
   "source": []
  }
 ],
 "metadata": {
  "kernelspec": {
   "display_name": "Python 3 (ipykernel)",
   "language": "python",
   "name": "python3"
  },
  "language_info": {
   "codemirror_mode": {
    "name": "ipython",
    "version": 3
   },
   "file_extension": ".py",
   "mimetype": "text/x-python",
   "name": "python",
   "nbconvert_exporter": "python",
   "pygments_lexer": "ipython3",
   "version": "3.10.14"
  }
 },
 "nbformat": 4,
 "nbformat_minor": 5
}
