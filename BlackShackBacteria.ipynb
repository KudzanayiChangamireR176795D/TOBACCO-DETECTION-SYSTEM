{
 "cells": [
  {
   "cell_type": "markdown",
   "id": "ecaade2d-f41e-40dc-8d34-bbe78c4cc90a",
   "metadata": {},
   "source": [
    "## ........................AGUMENTING TOBACCO BLACK SHACK LEAF BACTERIA (HEALTHY MODULE)...................."
   ]
  },
  {
   "cell_type": "markdown",
   "id": "500e2570-1a22-4582-bafd-6733d85c1c3b",
   "metadata": {},
   "source": [
    "## AGUMENTING TOBACCO BLACK SHACK BACTERIA - Vertical Flip (HEALTHY TRAIN SET)"
   ]
  },
  {
   "cell_type": "code",
   "execution_count": 99,
   "id": "42e47b6f-1501-42e2-a7e6-28416b6b8608",
   "metadata": {},
   "outputs": [],
   "source": [
    "from tensorflow.keras.preprocessing.image import ImageDataGenerator\n",
    "from matplotlib.pyplot import imread, imshow, subplots, show\n",
    "import numpy as np\n",
    "import os\n",
    "from PIL import Image\n",
    "from skimage import io"
   ]
  },
  {
   "cell_type": "code",
   "execution_count": 100,
   "id": "878d7870-ab2f-4d63-aabe-96f903e9c128",
   "metadata": {},
   "outputs": [],
   "source": [
    "datagen = ImageDataGenerator(\n",
    "    rotation_range=360,  \n",
    "    vertical_flip=True,  \n",
    "    fill_mode='reflect'\n",
    ")"
   ]
  },
  {
   "cell_type": "code",
   "execution_count": 101,
   "id": "e3596628-499b-406f-adf9-8afabeb53d6c",
   "metadata": {},
   "outputs": [],
   "source": [
    "image_directory ='Tobacco_BlackShack_Bacteria_RawSplit\\Train\\Healthy/'\n",
    "SIZE =256\n",
    "dataset = []"
   ]
  },
  {
   "cell_type": "code",
   "execution_count": 102,
   "id": "cc16720f-5b5f-4941-a5df-064a8dbbcdd5",
   "metadata": {},
   "outputs": [],
   "source": [
    "my_images = os.listdir(image_directory)\n",
    "for i, image_name in enumerate(my_images):\n",
    "    if (image_name.split('.')[1] =='jpg'):\n",
    "        image = io.imread(image_directory + image_name)\n",
    "        image = Image.fromarray(image, 'RGB')\n",
    "        image = image.resize((SIZE,SIZE))\n",
    "        dataset.append(np.array(image))"
   ]
  },
  {
   "cell_type": "code",
   "execution_count": 103,
   "id": "a76078f1-b2de-4d7d-adc6-60aa7221d7b3",
   "metadata": {},
   "outputs": [],
   "source": [
    "x=np.array(dataset)\n",
    "i = 0\n",
    "for batch in datagen.flow(x, batch_size=11,\n",
    "                          save_to_dir='Tobacco_BlackShack_Bacteria_AgumentedData\\Train\\Healthy',\n",
    "                          save_prefix='Healthy-VerticalFlip',\n",
    "                          save_format='png'):\n",
    "    i +=1\n",
    "    if i >10:\n",
    "        break"
   ]
  },
  {
   "cell_type": "markdown",
   "id": "5e6b6123-c09a-40c7-8e64-99830d1d2f2b",
   "metadata": {},
   "source": [
    "## AGUMENTING TOBACCO BLACK SHACK IMAGES - Horizontal Flip (HEALTHY TRAIN SET)"
   ]
  },
  {
   "cell_type": "code",
   "execution_count": 104,
   "id": "c5e8327c-ad86-4e0c-82a6-2bd19122a1eb",
   "metadata": {},
   "outputs": [],
   "source": [
    "datagen = ImageDataGenerator(\n",
    "    rotation_range=360,  \n",
    "    horizontal_flip=True,  \n",
    "    fill_mode='reflect'\n",
    ")"
   ]
  },
  {
   "cell_type": "code",
   "execution_count": 105,
   "id": "770c7563-7c1e-43d1-a7a9-cfa3fe72c9fe",
   "metadata": {},
   "outputs": [],
   "source": [
    "image_directory ='Tobacco_BlackShack_Bacteria_RawSplit\\Train\\Healthy/'\n",
    "SIZE =256\n",
    "dataset = []"
   ]
  },
  {
   "cell_type": "code",
   "execution_count": 106,
   "id": "74ddf89c-9edd-481f-a129-81d318df68e2",
   "metadata": {},
   "outputs": [],
   "source": [
    "my_images = os.listdir(image_directory)\n",
    "for i, image_name in enumerate(my_images):\n",
    "    if (image_name.split('.')[1] =='jpg'):\n",
    "        image = io.imread(image_directory + image_name)\n",
    "        image = Image.fromarray(image, 'RGB')\n",
    "        image = image.resize((SIZE,SIZE))\n",
    "        dataset.append(np.array(image))"
   ]
  },
  {
   "cell_type": "code",
   "execution_count": 107,
   "id": "8b988141-a1c6-4c45-ad1a-76c87ac8c358",
   "metadata": {},
   "outputs": [],
   "source": [
    "x=np.array(dataset)\n",
    "i = 0\n",
    "for batch in datagen.flow(x, batch_size=11,\n",
    "                          save_to_dir='Tobacco_BlackShack_Bacteria_AgumentedData\\Train\\Healthy',\n",
    "                          save_prefix='Healthy-HorizontalFlip',\n",
    "                          save_format='png'):\n",
    "    i +=1\n",
    "    if i >10:\n",
    "        break"
   ]
  },
  {
   "cell_type": "markdown",
   "id": "a1b94e98-388f-4aae-b7c6-2cac7a4d63ef",
   "metadata": {},
   "source": [
    "## AGUMENTING TOBACCO BLACK SHACK BACTERIA -  GAUSSIAN EFFECT (HEALTHY TRAIN SET)"
   ]
  },
  {
   "cell_type": "code",
   "execution_count": 108,
   "id": "e401d3f7-2b26-4478-ad33-4d553471c935",
   "metadata": {},
   "outputs": [],
   "source": [
    "datagen = ImageDataGenerator(\n",
    "    rotation_range=360,\n",
    "    vertical_flip=True,\n",
    "    fill_mode='reflect',\n",
    "    samplewise_center=True,\n",
    "    samplewise_std_normalization=True,\n",
    "    channel_shift_range=0.2,\n",
    "    brightness_range=[0.8, 1.2],\n",
    "    zoom_range=[0.8, 1.2],\n",
    "    width_shift_range=0.2,\n",
    "    height_shift_range=0.2\n",
    ")"
   ]
  },
  {
   "cell_type": "code",
   "execution_count": 109,
   "id": "caa98db8-b72a-4e2a-ab38-31dee1f4b5bd",
   "metadata": {},
   "outputs": [],
   "source": [
    "image_directory ='Tobacco_BlackShack_Bacteria_RawSplit\\Train\\Healthy/'\n",
    "SIZE =256\n",
    "dataset = []"
   ]
  },
  {
   "cell_type": "code",
   "execution_count": 110,
   "id": "8def09dd-93df-4090-8bdf-bbfe8201596a",
   "metadata": {},
   "outputs": [],
   "source": [
    "my_images = os.listdir(image_directory)\n",
    "for i, image_name in enumerate(my_images):\n",
    "    if (image_name.split('.')[1] =='jpg'):\n",
    "        image = io.imread(image_directory + image_name)\n",
    "        image = Image.fromarray(image, 'RGB')\n",
    "        image = image.resize((SIZE,SIZE))\n",
    "        dataset.append(np.array(image))"
   ]
  },
  {
   "cell_type": "code",
   "execution_count": 111,
   "id": "c0551ac6-fbb8-4386-9d56-dbd38a873a6b",
   "metadata": {},
   "outputs": [],
   "source": [
    "x=np.array(dataset)\n",
    "i = 0\n",
    "for batch in datagen.flow(x, batch_size=11,\n",
    "                          save_to_dir='Tobacco_BlackShack_Bacteria_AgumentedData\\Train\\Healthy',\n",
    "                          save_prefix='Healthy-GaussianEffect',\n",
    "                          save_format='png'):\n",
    "    i +=1\n",
    "    if i >10:\n",
    "        break"
   ]
  },
  {
   "cell_type": "markdown",
   "id": "2a866ad0-c8f2-4b3c-a65e-7d3bff67b87e",
   "metadata": {},
   "source": [
    "## AGUMENTING TOBACCO BLACK SHACK  - Vertical Flip (HEALTHY VALID SET)"
   ]
  },
  {
   "cell_type": "code",
   "execution_count": 112,
   "id": "c68efb4e-3584-4328-8560-61b241a90f7a",
   "metadata": {},
   "outputs": [],
   "source": [
    "datagen = ImageDataGenerator(\n",
    "    rotation_range=360,\n",
    "    vertical_flip=True,\n",
    "    fill_mode='reflect'\n",
    ")"
   ]
  },
  {
   "cell_type": "code",
   "execution_count": 113,
   "id": "395dbac6-6371-474a-bc5c-33be28cbd5f9",
   "metadata": {},
   "outputs": [],
   "source": [
    "image_directory ='Tobacco_BlackShack_Bacteria_RawSplit\\Valid\\Healthy/'\n",
    "SIZE =256\n",
    "dataset = []"
   ]
  },
  {
   "cell_type": "code",
   "execution_count": 114,
   "id": "26f3a426-c37d-4a75-8842-bc3118e503a3",
   "metadata": {},
   "outputs": [],
   "source": [
    "my_images = os.listdir(image_directory)\n",
    "for i, image_name in enumerate(my_images):\n",
    "    if (image_name.split('.')[1] =='jpg'):\n",
    "        image = io.imread(image_directory + image_name)\n",
    "        image = Image.fromarray(image, 'RGB')\n",
    "        image = image.resize((SIZE,SIZE))\n",
    "        dataset.append(np.array(image))"
   ]
  },
  {
   "cell_type": "code",
   "execution_count": 115,
   "id": "99efe59d-821d-44ee-a0b2-f5fa37d76512",
   "metadata": {},
   "outputs": [],
   "source": [
    "x=np.array(dataset)\n",
    "i = 0\n",
    "for batch in datagen.flow(x, batch_size=10,\n",
    "                          save_to_dir='Tobacco_BlackShack_Bacteria_AgumentedData\\Valid\\Healthy',\n",
    "                          save_prefix='Healthy-VerticalFlip',\n",
    "                          save_format='png'):\n",
    "    i +=1\n",
    "    if i >2:\n",
    "        break"
   ]
  },
  {
   "cell_type": "markdown",
   "id": "597ebe75-2d65-4a76-b3e8-8ff6b2e61502",
   "metadata": {},
   "source": [
    "## AGUMENTING TOBACCO BLACK SHACK IMAGES - Horizontal Flip (HEALTHY VALID SET)"
   ]
  },
  {
   "cell_type": "code",
   "execution_count": 116,
   "id": "d1cad447-5825-4aec-a143-74365104b933",
   "metadata": {},
   "outputs": [],
   "source": [
    "datagen = ImageDataGenerator(\n",
    "    rotation_range=360,\n",
    "    horizontal_flip=True,\n",
    "    fill_mode='reflect'\n",
    ")"
   ]
  },
  {
   "cell_type": "code",
   "execution_count": 117,
   "id": "68e5cd17-8cad-4256-8766-a15e1fa9aee6",
   "metadata": {},
   "outputs": [],
   "source": [
    "image_directory ='Tobacco_BlackShack_Bacteria_RawSplit\\Valid\\Healthy/'\n",
    "SIZE =256\n",
    "dataset = []"
   ]
  },
  {
   "cell_type": "code",
   "execution_count": 118,
   "id": "ef77b691-0942-43be-a9cf-c16f552bf125",
   "metadata": {},
   "outputs": [],
   "source": [
    "my_images = os.listdir(image_directory)\n",
    "for i, image_name in enumerate(my_images):\n",
    "    if (image_name.split('.')[1] =='jpg'):\n",
    "        image = io.imread(image_directory + image_name)\n",
    "        image = Image.fromarray(image, 'RGB')\n",
    "        image = image.resize((SIZE,SIZE))\n",
    "        dataset.append(np.array(image))"
   ]
  },
  {
   "cell_type": "code",
   "execution_count": 119,
   "id": "064a31cb-f6a5-44f5-a482-bf88f01f5b5f",
   "metadata": {},
   "outputs": [],
   "source": [
    "x=np.array(dataset)\n",
    "i = 0\n",
    "for batch in datagen.flow(x, batch_size=10,\n",
    "                          save_to_dir='Tobacco_BlackShack_Bacteria_AgumentedData\\Valid\\Healthy',\n",
    "                          save_prefix='Healthy-HorizontalFlip',\n",
    "                          save_format='png'):\n",
    "    i +=1\n",
    "    if i >2:\n",
    "        break"
   ]
  },
  {
   "cell_type": "markdown",
   "id": "1854e360-6556-4add-bb52-8fe4371d602d",
   "metadata": {},
   "source": [
    "## AGUMENTING TOBACCO BLACK SHACK IMAGES - GAUSSIAN EFFECT (HEALTHY VALID SET)"
   ]
  },
  {
   "cell_type": "code",
   "execution_count": 120,
   "id": "bbba0257-2d71-4ed5-82f9-0414a114c18e",
   "metadata": {},
   "outputs": [],
   "source": [
    "datagen = ImageDataGenerator(\n",
    "    rotation_range=360,\n",
    "    vertical_flip=True,\n",
    "    fill_mode='reflect',\n",
    "    samplewise_center=True,\n",
    "    samplewise_std_normalization=True,\n",
    "    channel_shift_range=0.2,\n",
    "    brightness_range=[0.8, 1.2],\n",
    "    zoom_range=[0.8, 1.2],\n",
    "    width_shift_range=0.2,\n",
    "    height_shift_range=0.2\n",
    ")"
   ]
  },
  {
   "cell_type": "code",
   "execution_count": 121,
   "id": "cc539d84-9eee-4464-82a1-8d08878a9f0c",
   "metadata": {},
   "outputs": [],
   "source": [
    "image_directory ='Tobacco_BlackShack_Bacteria_RawSplit\\Valid\\Healthy/'\n",
    "SIZE =256\n",
    "dataset = []"
   ]
  },
  {
   "cell_type": "code",
   "execution_count": 122,
   "id": "ee6e5ff9-7751-4622-af51-a96e43ed43f8",
   "metadata": {},
   "outputs": [],
   "source": [
    "my_images = os.listdir(image_directory)\n",
    "for i, image_name in enumerate(my_images):\n",
    "    if (image_name.split('.')[1] =='jpg'):\n",
    "        image = io.imread(image_directory + image_name)\n",
    "        image = Image.fromarray(image, 'RGB')\n",
    "        image = image.resize((SIZE,SIZE))\n",
    "        dataset.append(np.array(image))"
   ]
  },
  {
   "cell_type": "code",
   "execution_count": 123,
   "id": "9d049ca1-9d41-4c6e-9dd4-376c987101b6",
   "metadata": {},
   "outputs": [],
   "source": [
    "x=np.array(dataset)\n",
    "i = 0\n",
    "for batch in datagen.flow(x, batch_size=10,\n",
    "                          save_to_dir='Tobacco_BlackShack_Bacteria_AgumentedData\\Valid\\Healthy',\n",
    "                          save_prefix='Healthy-Gaussian-Effect',\n",
    "                          save_format='png'):\n",
    "    i +=1\n",
    "    if i >2:\n",
    "        break"
   ]
  },
  {
   "cell_type": "markdown",
   "id": "babf187d-1b48-4e35-91c9-37edaa8aed06",
   "metadata": {},
   "source": [
    "## ....................AGUMENTING TOBACCO BLACK SHACK (DISEASED MODULE)...................."
   ]
  },
  {
   "cell_type": "markdown",
   "id": "d592b7a4-18a9-4a43-9e87-83ae9e0c10c0",
   "metadata": {},
   "source": [
    "## AGUMENTING TOBACCO BLACK SHACK - Vertical Flip (DISEASED TRAIN SET)"
   ]
  },
  {
   "cell_type": "code",
   "execution_count": 124,
   "id": "c7cd33b9-df84-45e8-95b5-61165231ca78",
   "metadata": {},
   "outputs": [],
   "source": [
    "datagen = ImageDataGenerator(\n",
    "    rotation_range=360,  \n",
    "    vertical_flip=True,  \n",
    "    fill_mode='reflect'\n",
    ")"
   ]
  },
  {
   "cell_type": "code",
   "execution_count": 125,
   "id": "3afe4842-1389-4b63-82b4-02ce17a57802",
   "metadata": {},
   "outputs": [],
   "source": [
    "image_directory ='Tobacco_BlackShack_Bacteria_RawSplit\\Train\\Diseased/'\n",
    "SIZE =256\n",
    "dataset = []"
   ]
  },
  {
   "cell_type": "code",
   "execution_count": 126,
   "id": "c70e6093-6f94-4376-8540-90e340d8e610",
   "metadata": {},
   "outputs": [],
   "source": [
    "my_images = os.listdir(image_directory)\n",
    "for i, image_name in enumerate(my_images):\n",
    "    if (image_name.split('.')[1] =='jpg'):\n",
    "        image = io.imread(image_directory + image_name)\n",
    "        image = Image.fromarray(image, 'RGB')\n",
    "        image = image.resize((SIZE,SIZE))\n",
    "        dataset.append(np.array(image))"
   ]
  },
  {
   "cell_type": "code",
   "execution_count": 127,
   "id": "84590ee2-a3c8-4be2-b812-c146a7a647fb",
   "metadata": {},
   "outputs": [],
   "source": [
    "x=np.array(dataset)\n",
    "i = 0\n",
    "for batch in datagen.flow(x, batch_size=11,\n",
    "                          save_to_dir='Tobacco_BlackShack_Bacteria_AgumentedData\\Train\\Diseased',\n",
    "                          save_prefix='Blackshack-VerticalFlip',\n",
    "                          save_format='png'):\n",
    "    i +=1\n",
    "    if i >10:\n",
    "        break"
   ]
  },
  {
   "cell_type": "markdown",
   "id": "0f48e3da-fc7c-40d9-bccb-2c59e9b3f336",
   "metadata": {},
   "source": [
    "##  AGUMENTING TOBACCO BLACK SHACK - Horizontal Flip (DISEASED TRAIN SET)"
   ]
  },
  {
   "cell_type": "code",
   "execution_count": 128,
   "id": "cef83ac3-d6a3-43a3-b07b-d3136bae315b",
   "metadata": {},
   "outputs": [],
   "source": [
    "datagen = ImageDataGenerator(\n",
    "    rotation_range=360,  \n",
    "    horizontal_flip=True,  \n",
    "    fill_mode='reflect'\n",
    ")"
   ]
  },
  {
   "cell_type": "code",
   "execution_count": 129,
   "id": "1aa19857-cdc1-4091-a3a4-fbf4202fd187",
   "metadata": {},
   "outputs": [],
   "source": [
    "image_directory ='Tobacco_BlackShack_Bacteria_RawSplit\\Train\\Diseased/'\n",
    "SIZE =256\n",
    "dataset = []"
   ]
  },
  {
   "cell_type": "code",
   "execution_count": 130,
   "id": "b84c9f7c-0af0-441c-8050-da7a89678b37",
   "metadata": {},
   "outputs": [],
   "source": [
    "my_images = os.listdir(image_directory)\n",
    "for i, image_name in enumerate(my_images):\n",
    "    if (image_name.split('.')[1] =='jpg'):\n",
    "        image = io.imread(image_directory + image_name)\n",
    "        image = Image.fromarray(image, 'RGB')\n",
    "        image = image.resize((SIZE,SIZE))\n",
    "        dataset.append(np.array(image))"
   ]
  },
  {
   "cell_type": "code",
   "execution_count": 131,
   "id": "f226c3e2-8dca-446e-b15c-c071845ae876",
   "metadata": {},
   "outputs": [],
   "source": [
    "x=np.array(dataset)\n",
    "i = 0\n",
    "for batch in datagen.flow(x, batch_size=11,\n",
    "                          save_to_dir='Tobacco_BlackShack_Bacteria_AgumentedData\\Train\\Diseased',\n",
    "                          save_prefix='BlackShack-HorizontalFlip',\n",
    "                          save_format='png'):\n",
    "    i +=1\n",
    "    if i >10:\n",
    "        break"
   ]
  },
  {
   "cell_type": "markdown",
   "id": "213d7000-2a89-4945-9d16-5873bcabad80",
   "metadata": {},
   "source": [
    "## AGUMENTING TOBACCO BLACK SHACK - GAUSSIAN EFFECT (DISEASED TRAIN SET)"
   ]
  },
  {
   "cell_type": "code",
   "execution_count": 132,
   "id": "47432ee1-0698-44ec-9f4c-9992488c921d",
   "metadata": {},
   "outputs": [],
   "source": [
    "datagen = ImageDataGenerator(\n",
    "    rotation_range=360,\n",
    "    vertical_flip=True,\n",
    "    fill_mode='reflect',\n",
    "    samplewise_center=True,\n",
    "    samplewise_std_normalization=True,\n",
    "    channel_shift_range=0.2,\n",
    "    brightness_range=[0.8, 1.2],\n",
    "    zoom_range=[0.8, 1.2],\n",
    "    width_shift_range=0.2,\n",
    "    height_shift_range=0.2\n",
    ")"
   ]
  },
  {
   "cell_type": "code",
   "execution_count": 133,
   "id": "6847c32c-c8aa-4699-96f8-5f49d4105a7b",
   "metadata": {},
   "outputs": [],
   "source": [
    "image_directory ='Tobacco_BlackShack_Bacteria_RawSplit\\Train\\Diseased/'\n",
    "SIZE =256\n",
    "dataset = []"
   ]
  },
  {
   "cell_type": "code",
   "execution_count": 134,
   "id": "3222bfc8-d088-484d-9432-741ac1b9ce8a",
   "metadata": {},
   "outputs": [],
   "source": [
    "my_images = os.listdir(image_directory)\n",
    "for i, image_name in enumerate(my_images):\n",
    "    if (image_name.split('.')[1] =='jpg'):\n",
    "        image = io.imread(image_directory + image_name)\n",
    "        image = Image.fromarray(image, 'RGB')\n",
    "        image = image.resize((SIZE,SIZE))\n",
    "        dataset.append(np.array(image))"
   ]
  },
  {
   "cell_type": "code",
   "execution_count": 135,
   "id": "545834a5-8466-4cd0-b065-ae8cc8483132",
   "metadata": {},
   "outputs": [],
   "source": [
    "x=np.array(dataset)\n",
    "i = 0\n",
    "for batch in datagen.flow(x, batch_size=11,\n",
    "                          save_to_dir='Tobacco_BlackShack_Bacteria_AgumentedData\\Train\\Diseased',\n",
    "                          save_prefix='BlackShack-GaussianEffect',\n",
    "                          save_format='png'):\n",
    "    i +=1\n",
    "    if i >10:\n",
    "        break"
   ]
  },
  {
   "cell_type": "markdown",
   "id": "82b156b8-6859-450d-9bd1-017c86111e5c",
   "metadata": {},
   "source": [
    "## AGUMENTING TOBACCO BLACK SHACK - Vertical Flip (DISEASED VALID SET)"
   ]
  },
  {
   "cell_type": "code",
   "execution_count": 136,
   "id": "70dfcbb0-b855-4a7f-9f03-6edb4bfae8cd",
   "metadata": {},
   "outputs": [],
   "source": [
    "datagen = ImageDataGenerator(\n",
    "    rotation_range=360,  \n",
    "    vertical_flip=True,  \n",
    "    fill_mode='reflect'\n",
    ")"
   ]
  },
  {
   "cell_type": "code",
   "execution_count": 137,
   "id": "ef079b6c-4cdf-478c-818e-98a68f81c2ec",
   "metadata": {},
   "outputs": [],
   "source": [
    "image_directory ='Tobacco_BlackShack_Bacteria_RawSplit\\Valid\\Diseased/'\n",
    "SIZE =256\n",
    "dataset = []"
   ]
  },
  {
   "cell_type": "code",
   "execution_count": 138,
   "id": "df1940d6-52d8-402d-b231-939e3e09be77",
   "metadata": {},
   "outputs": [],
   "source": [
    "my_images = os.listdir(image_directory)\n",
    "for i, image_name in enumerate(my_images):\n",
    "    if (image_name.split('.')[1] =='jpg'):\n",
    "        image = io.imread(image_directory + image_name)\n",
    "        image = Image.fromarray(image, 'RGB')\n",
    "        image = image.resize((SIZE,SIZE))\n",
    "        dataset.append(np.array(image))"
   ]
  },
  {
   "cell_type": "code",
   "execution_count": 139,
   "id": "f4d4bd11-942b-44ff-8e0c-b9883639151f",
   "metadata": {},
   "outputs": [],
   "source": [
    "x=np.array(dataset)\n",
    "i = 0\n",
    "for batch in datagen.flow(x, batch_size=10,\n",
    "                          save_to_dir='Tobacco_BlackShack_Bacteria_AgumentedData\\Valid\\Diseased',\n",
    "                          save_prefix='BlackShack-VerticalFlip',\n",
    "                          save_format='png'):\n",
    "    i +=1\n",
    "    if i >2:\n",
    "        break"
   ]
  },
  {
   "cell_type": "markdown",
   "id": "30cd8e51-9d45-42ee-aede-f5ee35d128cd",
   "metadata": {},
   "source": [
    "## AGUMENTING TOBACCO BLACK SHACK - Horizontal Flip (DISEASED VALID SET)"
   ]
  },
  {
   "cell_type": "code",
   "execution_count": 140,
   "id": "3380f28d-0bca-4343-91b2-a79692438a6e",
   "metadata": {},
   "outputs": [],
   "source": [
    "datagen = ImageDataGenerator(\n",
    "    rotation_range=360,  \n",
    "    horizontal_flip=True,  \n",
    "    fill_mode='reflect'\n",
    ")"
   ]
  },
  {
   "cell_type": "code",
   "execution_count": 141,
   "id": "a1acc738-b04b-4b65-a006-0fb089481170",
   "metadata": {},
   "outputs": [],
   "source": [
    "image_directory ='Tobacco_BlackShack_Bacteria_RawSplit\\Valid\\Diseased/'\n",
    "SIZE =256\n",
    "dataset = []"
   ]
  },
  {
   "cell_type": "code",
   "execution_count": 142,
   "id": "ba847e45-7c83-409f-9d73-d3f126c71e44",
   "metadata": {},
   "outputs": [],
   "source": [
    "my_images = os.listdir(image_directory)\n",
    "for i, image_name in enumerate(my_images):\n",
    "    if (image_name.split('.')[1] =='jpg'):\n",
    "        image = io.imread(image_directory + image_name)\n",
    "        image = Image.fromarray(image, 'RGB')\n",
    "        image = image.resize((SIZE,SIZE))\n",
    "        dataset.append(np.array(image))"
   ]
  },
  {
   "cell_type": "code",
   "execution_count": 143,
   "id": "fd404aed-404b-4cf1-8d0e-95dfccd00395",
   "metadata": {},
   "outputs": [],
   "source": [
    "x=np.array(dataset)\n",
    "i = 0\n",
    "for batch in datagen.flow(x, batch_size=10,\n",
    "                          save_to_dir='Tobacco_BlackShack_Bacteria_AgumentedData\\Valid\\Diseased',\n",
    "                          save_prefix='BlackShack-HorizontalFlip',\n",
    "                          save_format='png'):\n",
    "    i +=1\n",
    "    if i >2:\n",
    "        break"
   ]
  },
  {
   "cell_type": "markdown",
   "id": "776a8d01-ffd3-4c8e-a263-eb744d1b48f1",
   "metadata": {},
   "source": [
    "## AGUMENTING TOBACCO BLACK SHACK - Gaussian Effect (DISEASED VALID SET)"
   ]
  },
  {
   "cell_type": "code",
   "execution_count": 144,
   "id": "4a58dc81-2448-4022-9708-8803dff1c4e9",
   "metadata": {},
   "outputs": [],
   "source": [
    "datagen = ImageDataGenerator(\n",
    "    rotation_range=360,\n",
    "    vertical_flip=True,\n",
    "    fill_mode='reflect',\n",
    "    samplewise_center=True,\n",
    "    samplewise_std_normalization=True,\n",
    "    channel_shift_range=0.2,\n",
    "    brightness_range=[0.8, 1.2],\n",
    "    zoom_range=[0.8, 1.2],\n",
    "    width_shift_range=0.2,\n",
    "    height_shift_range=0.2\n",
    ")"
   ]
  },
  {
   "cell_type": "code",
   "execution_count": 145,
   "id": "b9cacde3-db12-4697-8b1f-294454303e69",
   "metadata": {},
   "outputs": [],
   "source": [
    "image_directory ='Tobacco_BlackShack_Bacteria_RawSplit\\Valid\\Diseased/'\n",
    "SIZE =256\n",
    "dataset = []"
   ]
  },
  {
   "cell_type": "code",
   "execution_count": 146,
   "id": "4b95ae15-8569-461c-b7a6-79c105e783ff",
   "metadata": {},
   "outputs": [],
   "source": [
    "my_images = os.listdir(image_directory)\n",
    "for i, image_name in enumerate(my_images):\n",
    "    if (image_name.split('.')[1] =='jpg'):\n",
    "        image = io.imread(image_directory + image_name)\n",
    "        image = Image.fromarray(image, 'RGB')\n",
    "        image = image.resize((SIZE,SIZE))\n",
    "        dataset.append(np.array(image))"
   ]
  },
  {
   "cell_type": "code",
   "execution_count": 147,
   "id": "a57d50b1-29a6-468e-8181-f6fae10a2c28",
   "metadata": {},
   "outputs": [],
   "source": [
    "x=np.array(dataset)\n",
    "i = 0\n",
    "for batch in datagen.flow(x, batch_size=10,\n",
    "                          save_to_dir='Tobacco_BlackShack_Bacteria_AgumentedData\\Valid\\Diseased',\n",
    "                          save_prefix='BlackShack-GaussianEffect',\n",
    "                          save_format='png'):\n",
    "    i +=1\n",
    "    if i >2:\n",
    "        break"
   ]
  }
 ],
 "metadata": {
  "kernelspec": {
   "display_name": "Python 3 (ipykernel)",
   "language": "python",
   "name": "python3"
  },
  "language_info": {
   "codemirror_mode": {
    "name": "ipython",
    "version": 3
   },
   "file_extension": ".py",
   "mimetype": "text/x-python",
   "name": "python",
   "nbconvert_exporter": "python",
   "pygments_lexer": "ipython3",
   "version": "3.10.14"
  }
 },
 "nbformat": 4,
 "nbformat_minor": 5
}
